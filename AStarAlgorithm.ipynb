{
 "cells": [
  {
   "cell_type": "markdown",
   "id": "a539ad4c",
   "metadata": {},
   "source": [
    " # A-Star Algorithm\n",
    " * A-Star Algorithm to find the optimal path for the Maze "
   ]
  },
  {
   "cell_type": "code",
   "execution_count": 1,
   "id": "595e3d46",
   "metadata": {},
   "outputs": [],
   "source": [
    "import numpy as np"
   ]
  },
  {
   "cell_type": "markdown",
   "id": "0beb49a9",
   "metadata": {},
   "source": [
    "### Node class\n",
    "* A node class for A* Pathfinding.\n",
    "* The f, g, and h variables are in our Node class are initialised.\n"
   ]
  },
  {
   "cell_type": "code",
   "execution_count": 2,
   "id": "29ef3273",
   "metadata": {},
   "outputs": [],
   "source": [
    "class Node():\n",
    "\n",
    "    def __init__(self, parent=None, position=None):\n",
    "        self.parent = parent\n",
    "        self.position = position\n",
    "\n",
    "        self.g = 0    #G is the distance between the current node and the start node.\n",
    "        self.h = 0    #H is the heuristic — estimated distance from the current node to the end node.\n",
    "        self.f = 0    #F is the total cost of the node\n",
    "\n",
    "    def __eq__(self, other):\n",
    "        return self.position == other.position "
   ]
  },
  {
   "cell_type": "markdown",
   "id": "d6f6cf5e",
   "metadata": {},
   "source": [
    "###  A-Star Function\n",
    "* Returns a list of tuples as a path from the given start to the given end in the given maze.\n",
    "\n"
   ]
  },
  {
   "cell_type": "code",
   "execution_count": 3,
   "id": "7954a448",
   "metadata": {},
   "outputs": [],
   "source": [
    "def astar(maze, start, end):\n",
    "\n",
    "    # Create start and end node\n",
    "    start_node = Node(None, start)\n",
    "    start_node.g = start_node.h = start_node.f = 0\n",
    "    end_node = Node(None, end)\n",
    "    end_node.g = end_node.h = end_node.f = 0\n",
    "\n",
    "    # Initialize both open and closed list\n",
    "    open_list = []\n",
    "    closed_list = []\n",
    "\n",
    "    # Add the start node\n",
    "    open_list.append(start_node)\n",
    "\n",
    "    # Loop until you find the end\n",
    "    while len(open_list) > 0:\n",
    "        # Get the current node\n",
    "        current_node = open_list[0]\n",
    "        current_index = 0\n",
    "        for index, item in enumerate(open_list):\n",
    "            if item.f < current_node.f:\n",
    "                current_node = item\n",
    "                current_index = index\n",
    "\n",
    "        # Pop current off open list, add to closed list\n",
    "        temp = []\n",
    "        for i in range(len(open_list)):\n",
    "            if i == current_index:\n",
    "                continue\n",
    "            else:\n",
    "                temp.append(open_list[i])\n",
    "        open_list = temp\n",
    "        closed_list.append(current_node)\n",
    "\n",
    "        # Found the goal\n",
    "        if current_node == end_node:\n",
    "            path = []\n",
    "            current = current_node\n",
    "            while current is not None:\n",
    "                path.append(current.position)\n",
    "                current = current.parent\n",
    "            return path[::-1] # Return reversed path                                                        \n",
    "        \n",
    "            \n",
    "\n",
    "        # Generate children\n",
    "        children = []\n",
    "        for new_position in [(0, -1), (0, 1), (-1, 0), (1, 0), (-1, -1), (-1, 1), (1, -1), (1, 1)]: # Adjacent squares\n",
    "            # Get node position\n",
    "            node_position = (current_node.position[0] + new_position[0], current_node.position[1] + new_position[1])\n",
    "        \n",
    "            # Make sure within range\n",
    "            if node_position[0] > (len(maze) - 1) or node_position[0] < 0 or node_position[1] > (len(maze[len(maze)-1]) -1) or node_position[1] < 0:\n",
    "                  continue\n",
    "            if node_position[0] < 0 or node_position[1] < 0:\n",
    "                continue \n",
    "            # Make sure walkable terrain\n",
    "            if maze[node_position[0]][node_position[1]] != 0:\n",
    "                continue\n",
    "            Current = current_node\n",
    "            isPass = True\n",
    "            # Check if the current node has been visited\n",
    "            while Current is not None:\n",
    "                \n",
    "                if node_position[0] == Current.position[0] and node_position[1] == Current.position[1]:\n",
    "                    isPass = False\n",
    "                    break\n",
    "                Current = Current.parent        \n",
    "            if not isPass:\n",
    "                continue \n",
    "            # Create new node\n",
    "            new_node = Node(current_node, node_position)\n",
    "\n",
    "            # Append\n",
    "            children.append(new_node)\n",
    "\n",
    "        # Loop through children\n",
    "        for child in children:\n",
    "\n",
    "            # Child is on the closed list\n",
    "            for closed_child in closed_list:\n",
    "                if child == closed_child:\n",
    "                    continue\n",
    "\n",
    "            # Create the f, g, and h values\n",
    "            child.g = current_node.g + 1\n",
    "            child.h = ((child.position[0] - end_node.position[0]) ** 2) + ((child.position[1] - end_node.position[1]) ** 2)\n",
    "            child.f = child.g + child.h\n",
    "\n",
    "            # Child is already in the open list\n",
    "            for open_node in open_list:\n",
    "                if child == open_node and child.g > open_node.g:\n",
    "                    continue\n",
    "\n",
    "            # Add the child to the open list\n",
    "            open_list.append(child)\n",
    "       \n",
    "\n"
   ]
  },
  {
   "cell_type": "markdown",
   "id": "09dd73e2",
   "metadata": {},
   "source": [
    "### Changing the Path tuples to a sequence of cell indexes\n",
    "\n",
    "For example given: [(0, 0), (1, 1), (2, 2), (3, 3), (3, 4), (3, 5), (3, 6), (3, 7)]\n",
    "\n",
    "return\n",
    "\n",
    "0 9 18 27 28 29 30 31 "
   ]
  },
  {
   "cell_type": "code",
   "execution_count": 4,
   "id": "589d74bd",
   "metadata": {},
   "outputs": [],
   "source": [
    "def getPathAsNumbers(path, width):\n",
    "    newPath = \"\"\n",
    "    for co in path:\n",
    "        num = (co[0] *width) + co[1]\n",
    "        newPath += str(num)+\" \"\n",
    "    return newPath"
   ]
  },
  {
   "cell_type": "markdown",
   "id": "c5c36a0e",
   "metadata": {},
   "source": [
    "### Read file : for each case, find the shortest path using A*\n",
    "* Read the number of cases\n",
    "* generate the matrix and initialise every cell to 0\n",
    "* Read the obsticles and initialise them to 1\n"
   ]
  },
  {
   "cell_type": "code",
   "execution_count": 5,
   "id": "d7ab390e",
   "metadata": {},
   "outputs": [
    {
     "name": "stdout",
     "output_type": "stream",
     "text": [
      "[[0 0 0 0 1 1 1 1]\n",
      " [0 0 0 0 0 1 1 1]\n",
      " [1 1 0 1 1 0 0 0]\n",
      " [1 0 0 0 0 0 0 0]]\n",
      "Path : [(0, 0), (1, 1), (2, 2), (3, 3), (3, 4), (3, 5), (3, 6), (3, 7)]\n",
      "Case 1:  0 9 18 27 28 29 30 31 \n",
      "\n",
      "[[0 0 0 0 1 1 1 1]\n",
      " [0 0 0 0 0 1 1 1]\n",
      " [1 1 0 1 1 0 0 0]\n",
      " [1 0 0 0 0 0 0 0]]\n",
      "Path : [(0, 0), (1, 1), (2, 2), (3, 1)]\n",
      "Case 2:  0 9 18 25 \n",
      "\n"
     ]
    }
   ],
   "source": [
    "file1 = open(\"maze.txt\",\"r+\")\n",
    "nextline = file1\n",
    "caseNumber=file1.readline()\n",
    "global obs_start  #Global variables\n",
    "global obs_end #Global variables\n",
    "global row    \n",
    "    \n",
    "for z in range(int(caseNumber)):\n",
    "    caseLines = file1.readline()\n",
    "    \n",
    "    for w in range(int(caseLines)):\n",
    "        line = file1.readline()\n",
    "        x = line.split()\n",
    "        if (len(x) == 6):\n",
    "            height = int(x[0])\n",
    "            width = int(x[1])\n",
    "            start = (int(x[2]),int(x[3]))\n",
    "            end = (int(x[4]),int(x[5]))\n",
    "            arr = np.ndarray(shape=(height,width), dtype=int) # create matrix and initialise every cell to 0\n",
    "            for r in range(height):  \n",
    "                for c in range(width):\n",
    "                    arr[r][c] = 0\n",
    "        if (len(x) == 3):\n",
    "            row = int(x[0])\n",
    "            obs_start = int(x[1])\n",
    "            obs_end = int(x[2])\n",
    "            for i in range(obs_start, obs_end+1): # generating a list of numbers [4,5,6,7] for example \n",
    "                arr[row][i] = 1\n",
    "    \n",
    "    print(arr)\n",
    "    path = astar(arr, start, end)\n",
    "    \n",
    "    if path is None:\n",
    "        print(\"Case \"+ str(z+1) + \": No path exist\")\n",
    "    else:\n",
    "        print(\"Path :\",path)\n",
    "        print(\"Case \"+ str(z+1) +\": \" ,getPathAsNumbers(path, width))\n",
    "        print()"
   ]
  },
  {
   "cell_type": "code",
   "execution_count": null,
   "id": "807e0b28",
   "metadata": {},
   "outputs": [],
   "source": []
  }
 ],
 "metadata": {
  "kernelspec": {
   "display_name": "Python 3 (ipykernel)",
   "language": "python",
   "name": "python3"
  },
  "language_info": {
   "codemirror_mode": {
    "name": "ipython",
    "version": 3
   },
   "file_extension": ".py",
   "mimetype": "text/x-python",
   "name": "python",
   "nbconvert_exporter": "python",
   "pygments_lexer": "ipython3",
   "version": "3.9.12"
  }
 },
 "nbformat": 4,
 "nbformat_minor": 5
}
